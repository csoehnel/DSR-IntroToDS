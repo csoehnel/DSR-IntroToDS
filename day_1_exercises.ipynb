{
 "cells": [
  {
   "cell_type": "code",
   "execution_count": 1,
   "metadata": {},
   "outputs": [],
   "source": [
    "import numpy as np"
   ]
  },
  {
   "cell_type": "code",
   "execution_count": 2,
   "metadata": {},
   "outputs": [
    {
     "data": {
      "text/plain": [
       "array([   1,    4, 1156])"
      ]
     },
     "execution_count": 2,
     "metadata": {},
     "output_type": "execute_result"
    }
   ],
   "source": [
    "a = np.array([1, 2, 34])\n",
    "np.square(a)"
   ]
  },
  {
   "cell_type": "code",
   "execution_count": 3,
   "metadata": {},
   "outputs": [
    {
     "data": {
      "text/plain": [
       "(2, 3)"
      ]
     },
     "execution_count": 3,
     "metadata": {},
     "output_type": "execute_result"
    }
   ],
   "source": [
    "a = np.array([[1, 2, 34], [23, 23, 11.78973]])\n",
    "np.square(a)\n",
    "a + a\n",
    "a.shape"
   ]
  },
  {
   "cell_type": "code",
   "execution_count": 4,
   "metadata": {},
   "outputs": [
    {
     "data": {
      "text/plain": [
       "(2, 2, 3)"
      ]
     },
     "execution_count": 4,
     "metadata": {},
     "output_type": "execute_result"
    }
   ],
   "source": [
    "a = np.array([[[1, 2, 34], [23, 23, 11.78973]], [[1, 2, 34], [23, 23, 11.78973]]])\n",
    "a * a\n",
    "a.shape"
   ]
  },
  {
   "cell_type": "code",
   "execution_count": 5,
   "metadata": {},
   "outputs": [
    {
     "data": {
      "text/plain": [
       "(2, 3)"
      ]
     },
     "execution_count": 5,
     "metadata": {},
     "output_type": "execute_result"
    }
   ],
   "source": [
    "a = np.array([[1, 2, 34], [23, 23, 11.78973]])\n",
    "(a * a).shape\n",
    "#a @ a"
   ]
  },
  {
   "cell_type": "code",
   "execution_count": 6,
   "metadata": {},
   "outputs": [
    {
     "name": "stdout",
     "output_type": "stream",
     "text": [
      "3.333338333335e+17\n",
      "Numpy: Took 0.01225 seconds\n",
      "333332833333500000\n",
      "Python: Took 0.25053 seconds\n"
     ]
    }
   ],
   "source": [
    "a = np.array([[1, 2, 34], [23, 23, 11.78973]])\n",
    "np.square(a)\n",
    "\n",
    "import time\n",
    "tic = time.time()\n",
    "print(np.sum(np.square(np.linspace(1, 1000000, 1000000))))\n",
    "toc = time.time()\n",
    "print(f'Numpy: Took {toc-tic:.5f} seconds')\n",
    "\n",
    "tic = time.time()\n",
    "print(sum([x**2 for x in range(1000000)]))\n",
    "toc = time.time()\n",
    "print(f'Python: Took {toc-tic:.5f} seconds')"
   ]
  },
  {
   "cell_type": "code",
   "execution_count": 7,
   "metadata": {},
   "outputs": [
    {
     "name": "stdout",
     "output_type": "stream",
     "text": [
      "CPU times: user 2.89 ms, sys: 7.26 ms, total: 10.2 ms\n",
      "Wall time: 5.8 ms\n"
     ]
    },
    {
     "data": {
      "text/plain": [
       "3.333338333335e+17"
      ]
     },
     "execution_count": 7,
     "metadata": {},
     "output_type": "execute_result"
    }
   ],
   "source": [
    "%time np.sum(np.square(np.linspace(1, 1000000, 1000000)))"
   ]
  },
  {
   "cell_type": "code",
   "execution_count": 8,
   "metadata": {},
   "outputs": [
    {
     "name": "stdout",
     "output_type": "stream",
     "text": [
      "6.36 ms ± 203 µs per loop (mean ± std. dev. of 7 runs, 100 loops each)\n"
     ]
    }
   ],
   "source": [
    "%timeit np.sum(np.square(np.linspace(1, 1000000, 1000000)))"
   ]
  },
  {
   "cell_type": "code",
   "execution_count": null,
   "metadata": {},
   "outputs": [],
   "source": []
  }
 ],
 "metadata": {
  "kernelspec": {
   "display_name": "Python 3",
   "language": "python",
   "name": "python3"
  },
  "language_info": {
   "codemirror_mode": {
    "name": "ipython",
    "version": 3
   },
   "file_extension": ".py",
   "mimetype": "text/x-python",
   "name": "python",
   "nbconvert_exporter": "python",
   "pygments_lexer": "ipython3",
   "version": "3.6.8"
  }
 },
 "nbformat": 4,
 "nbformat_minor": 2
}
